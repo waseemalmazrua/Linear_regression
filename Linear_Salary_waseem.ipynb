{
 "cells": [
  {
   "cell_type": "markdown",
   "metadata": {},
   "source": [
    "# Salary Prediction\n",
    "\n",
    "Corresponding  with this notebook is a slide deck where you will need to update all the portions in red.  Completing the notebook will provide all the results needed for the slides.  **Correctly completing the slides is a required part of the project.**\n",
    "\n",
    "\n",
    "## Table of Contents\n",
    "- [Introduction](#intro)\n",
    "- [Part I - Descriptive Statistics](#descriptive)\n",
    "- [Part II - Regression](#regression)\n",
    "- [Part III - Interpret Results](#interpret)\n",
    "\n",
    "\n",
    "<a id='intro'></a>\n",
    "### Introduction\n",
    "\n",
    "Linear Regression is very commonly performed by data analysts and data scientists.  For this project, you will be working to understand the results of a Linear Regression model associated with salaries.  Your goal is to work through this notebook to understand what variables are related to salary, and how exactly they are related.\n",
    "\n",
    "As a final check, assure you meet all the criteria on the rubric.\n",
    "\n",
    "<a id='descriptive'></a>\n",
    "#### Part I - Descriptive Statistics\n",
    "\n",
    "To get started, let's import our libraries."
   ]
  },
  {
   "cell_type": "code",
   "execution_count": 88,
   "metadata": {},
   "outputs": [],
   "source": [
    "import pandas as pd\n",
    "import numpy as np\n",
    "import random\n",
    "import matplotlib.pyplot as plt\n",
    "random.seed(0)"
   ]
  },
  {
   "cell_type": "markdown",
   "metadata": {},
   "source": [
    "For each of the parts of question `1` notice links to [pandas documentation](https://pandas.pydata.org/) is provided to assist with answering the questions.  Though there are other ways you could solve the questions, the documentation is provided to assist you with one fast way to find the answer to each question.\n",
    "\n",
    "\n",
    "`1.a)` Now, read in the `salary_data.csv` data. Store it in `df`. Read in the dataset and take a look at the top few rows here. **This question is completed for you**:"
   ]
  },
  {
   "cell_type": "code",
   "execution_count": 89,
   "metadata": {},
   "outputs": [
    {
     "data": {
      "text/html": [
       "<div>\n",
       "<style scoped>\n",
       "    .dataframe tbody tr th:only-of-type {\n",
       "        vertical-align: middle;\n",
       "    }\n",
       "\n",
       "    .dataframe tbody tr th {\n",
       "        vertical-align: top;\n",
       "    }\n",
       "\n",
       "    .dataframe thead th {\n",
       "        text-align: right;\n",
       "    }\n",
       "</style>\n",
       "<table border=\"1\" class=\"dataframe\">\n",
       "  <thead>\n",
       "    <tr style=\"text-align: right;\">\n",
       "      <th></th>\n",
       "      <th>Age</th>\n",
       "      <th>Gender</th>\n",
       "      <th>Education Level</th>\n",
       "      <th>Job Title</th>\n",
       "      <th>Years of Experience</th>\n",
       "      <th>Salary</th>\n",
       "    </tr>\n",
       "  </thead>\n",
       "  <tbody>\n",
       "    <tr>\n",
       "      <th>0</th>\n",
       "      <td>32.0</td>\n",
       "      <td>Male</td>\n",
       "      <td>Bachelor's</td>\n",
       "      <td>Software Engineer</td>\n",
       "      <td>5.0</td>\n",
       "      <td>90000.0</td>\n",
       "    </tr>\n",
       "    <tr>\n",
       "      <th>1</th>\n",
       "      <td>28.0</td>\n",
       "      <td>Female</td>\n",
       "      <td>Master's</td>\n",
       "      <td>Data Analyst</td>\n",
       "      <td>3.0</td>\n",
       "      <td>65000.0</td>\n",
       "    </tr>\n",
       "    <tr>\n",
       "      <th>2</th>\n",
       "      <td>45.0</td>\n",
       "      <td>Male</td>\n",
       "      <td>PhD</td>\n",
       "      <td>Senior Manager</td>\n",
       "      <td>15.0</td>\n",
       "      <td>150000.0</td>\n",
       "    </tr>\n",
       "    <tr>\n",
       "      <th>3</th>\n",
       "      <td>36.0</td>\n",
       "      <td>Female</td>\n",
       "      <td>Bachelor's</td>\n",
       "      <td>Sales Associate</td>\n",
       "      <td>7.0</td>\n",
       "      <td>60000.0</td>\n",
       "    </tr>\n",
       "    <tr>\n",
       "      <th>4</th>\n",
       "      <td>52.0</td>\n",
       "      <td>Male</td>\n",
       "      <td>Master's</td>\n",
       "      <td>Director</td>\n",
       "      <td>20.0</td>\n",
       "      <td>200000.0</td>\n",
       "    </tr>\n",
       "  </tbody>\n",
       "</table>\n",
       "</div>"
      ],
      "text/plain": [
       "    Age  Gender Education Level          Job Title  Years of Experience  \\\n",
       "0  32.0    Male      Bachelor's  Software Engineer                  5.0   \n",
       "1  28.0  Female        Master's       Data Analyst                  3.0   \n",
       "2  45.0    Male             PhD     Senior Manager                 15.0   \n",
       "3  36.0  Female      Bachelor's    Sales Associate                  7.0   \n",
       "4  52.0    Male        Master's           Director                 20.0   \n",
       "\n",
       "     Salary  \n",
       "0   90000.0  \n",
       "1   65000.0  \n",
       "2  150000.0  \n",
       "3   60000.0  \n",
       "4  200000.0  "
      ]
     },
     "execution_count": 89,
     "metadata": {},
     "output_type": "execute_result"
    }
   ],
   "source": [
    "df = pd.read_csv(r\"C:\\Users\\wasee\\OneDrive\\Desktop\\salary_data.csv\")\n",
    "df.head()"
   ]
  },
  {
   "cell_type": "markdown",
   "metadata": {},
   "source": [
    "`b)` Use the below cell to find the number of rows in the dataset. [Helpful pandas link - `Dataframe.shape`](https://pandas.pydata.org/docs/reference/api/pandas.DataFrame.shape.html#pandas.DataFrame.shape)"
   ]
  },
  {
   "cell_type": "code",
   "execution_count": 90,
   "metadata": {},
   "outputs": [
    {
     "data": {
      "text/plain": [
       "375"
      ]
     },
     "execution_count": 90,
     "metadata": {},
     "output_type": "execute_result"
    }
   ],
   "source": [
    "df.shape[0]\n"
   ]
  },
  {
   "cell_type": "markdown",
   "metadata": {},
   "source": [
    "### Number of Rows in the Dataset\n",
    "The dataset contains 375 rows.\n",
    "\n",
    "The code below is used to find the number of rows in the dataset:\n",
    "df.shape[0]\n",
    "\n",
    "df refers to the DataFrame object.\n",
    "\n",
    "shape is an attribute of the DataFrame that returns a tuple representing its dimensions.\n",
    "\n",
    "shape[0] returns the number of rows in the DataFrame (the first value in the tuple).\n",
    "\n",
    "This is useful to understand the size of the dataset before starting any analysis.\n",
    "\n"
   ]
  },
  {
   "cell_type": "markdown",
   "metadata": {},
   "source": [
    "`c)` Do any of the rows have missing values? [Helpful Pandas Link One](https://pandas.pydata.org/docs/reference/api/pandas.DataFrame.isnull.html) and [Helpful Pandas Link Two](https://pandas.pydata.org/docs/reference/api/pandas.DataFrame.sum.html)  \n",
    "\n",
    "If there are missing values, determine a method for dealing with them."
   ]
  },
  {
   "cell_type": "code",
   "execution_count": 91,
   "metadata": {},
   "outputs": [
    {
     "data": {
      "text/plain": [
       "Age                    2\n",
       "Gender                 2\n",
       "Education Level        2\n",
       "Job Title              2\n",
       "Years of Experience    2\n",
       "Salary                 2\n",
       "dtype: int64"
      ]
     },
     "execution_count": 91,
     "metadata": {},
     "output_type": "execute_result"
    }
   ],
   "source": [
    "df.isnull().sum()\n"
   ]
  },
  {
   "cell_type": "markdown",
   "metadata": {},
   "source": [
    "## Checking for Missing Values\n",
    "\n",
    "The code below shows the count of missing values in each column of the dataset:\n",
    "\n",
    "\n",
    "df.isnull().sum()\n",
    "\n",
    "Age                     2\n",
    "Gender                  2\n",
    "Education Level         2\n",
    "Job Title               2\n",
    "Years of Experience     2\n",
    "Salary                  2\n",
    "dtype: int64\n",
    "\n",
    "\n",
    "\n",
    "This means each of these columns has 2 missing values.\n"
   ]
  },
  {
   "cell_type": "code",
   "execution_count": 92,
   "metadata": {},
   "outputs": [],
   "source": [
    "df_clean = df.dropna()"
   ]
  },
  {
   "cell_type": "markdown",
   "metadata": {},
   "source": [
    "Handling Missing Values¶\n",
    "To handle these missing values, we can remove all rows that contain any missing data by using:\n",
    "\n",
    "df_clean = df.dropna()\n",
    "\n",
    "After dropping these rows, the dataset no longer contains missing values."
   ]
  },
  {
   "cell_type": "markdown",
   "metadata": {},
   "source": [
    "`d)` How many employees are in each `Education Level`? Build a bar chart to show the count of employees in each level."
   ]
  },
  {
   "cell_type": "code",
   "execution_count": 93,
   "metadata": {},
   "outputs": [
    {
     "data": {
      "image/png": "[encoded data removed]",
      "text/plain": [
       "<Figure size 800x500 with 1 Axes>"
      ]
     },
     "metadata": {},
     "output_type": "display_data"
    }
   ],
   "source": [
    "counts = df_clean['Education Level'].value_counts()\n",
    "\n",
    "plt.figure(figsize=(8,5))\n",
    "counts.plot(kind='bar')\n",
    "plt.title('Number of Employees by Education Level')\n",
    "plt.xlabel('Education Level')\n",
    "plt.ylabel('Number of Employees')\n",
    "plt.xticks(rotation=45)\n",
    "plt.show()\n"
   ]
  },
  {
   "cell_type": "markdown",
   "metadata": {},
   "source": [
    "### Interpretation of Bar Chart:\n",
    "This bar chart illustrates the distribution of employees across different education levels.\n",
    "\n",
    "The majority of employees hold a Bachelor's degree, with the highest count.\n",
    "\n",
    "The second-largest group holds a Master's degree.\n",
    "\n",
    "The smallest group holds a PhD degree.\n",
    "\n",
    "This information helps understand the educational composition of the workforce, which can be important for workforce planning and targeted training programs.\n",
    "\n"
   ]
  },
  {
   "cell_type": "markdown",
   "metadata": {},
   "source": [
    "`e)` What are the possible values for `Salary`?  What does the distribution of `Salary` look like?"
   ]
  },
  {
   "cell_type": "code",
   "execution_count": 94,
   "metadata": {},
   "outputs": [
    {
     "name": "stdout",
     "output_type": "stream",
     "text": [
      "Minimum Salary: 350.0\n",
      "Maximum Salary: 250000.0\n"
     ]
    },
    {
     "data": {
      "image/png": "[encoded data removed]",
      "text/plain": [
       "<Figure size 640x480 with 1 Axes>"
      ]
     },
     "metadata": {},
     "output_type": "display_data"
    }
   ],
   "source": [
    "min_salary = df_clean['Salary'].min()\n",
    "max_salary = df_clean['Salary'].max()\n",
    "print(f\"Minimum Salary: {min_salary}\")\n",
    "print(f\"Maximum Salary: {max_salary}\")\n",
    "\n",
    "\n",
    "\n",
    "plt.hist(df['Salary'], bins=20, edgecolor='black')\n",
    "plt.title('Salary Distribution')\n",
    "plt.xlabel('Salary')\n",
    "plt.ylabel('Frequency')\n",
    "plt.show()\n"
   ]
  },
  {
   "cell_type": "markdown",
   "metadata": {},
   "source": [
    "### Salary Distribution and Range Analysis\n",
    "The salary in the dataset ranges from 350 to 250,000, showing a wide variation in employee compensation.\n",
    "\n",
    "The histogram illustrates the distribution of salaries among employees:\n",
    "\n",
    "Most employees earn salaries clustered between approximately 30,000 and 150,000.\n",
    "\n",
    "There are fewer employees earning very low or very high salaries, indicating a somewhat right-skewed distribution.\n",
    "\n",
    "This distribution helps us understand the general salary trends and detect possible outliers or unusual salary levels.\n",
    "\n",
    "Such insights are crucial for analyzing pay scales, budgeting, and identifying potential disparities in compensation within the organization."
   ]
  },
  {
   "cell_type": "markdown",
   "metadata": {},
   "source": [
    "`b)` Consider average salary by education level, is there evidence that salaries are higher for increased education?"
   ]
  },
  {
   "cell_type": "code",
   "execution_count": 95,
   "metadata": {},
   "outputs": [
    {
     "name": "stdout",
     "output_type": "stream",
     "text": [
      "Education Level\n",
      "Bachelor's     74756.026786\n",
      "Master's      129795.918367\n",
      "PhD           157843.137255\n",
      "Name: Salary, dtype: float64\n"
     ]
    },
    {
     "data": {
      "image/png": "[encoded data removed]",
      "text/plain": [
       "<Figure size 640x480 with 1 Axes>"
      ]
     },
     "metadata": {},
     "output_type": "display_data"
    }
   ],
   "source": [
    "avg_salary_education = df_clean.groupby('Education Level')['Salary'].mean()\n",
    "\n",
    "\n",
    "print(avg_salary_education)\n",
    "\n",
    "\n",
    "avg_salary_education.plot(kind='bar')\n",
    "plt.title('Average Salary by Education Level')\n",
    "plt.xlabel('Education Level')\n",
    "plt.ylabel('Average Salary')\n",
    "plt.xticks(rotation=45)\n",
    "plt.show()\n"
   ]
  },
  {
   "cell_type": "markdown",
   "metadata": {},
   "source": [
    "### Average Salary by Education Level\n",
    "\n",
    "- The average salary increases with higher education levels.\n",
    "- Employees with a Bachelor's degree earn an average salary of approximately **74,756**.\n",
    "- Those with a Master's degree earn significantly more, averaging around **129,796**.\n",
    "- Employees with a PhD earn the highest average salary, about **157,843**.\n",
    "- This suggests a positive relationship between education level and salary.\n",
    "- The bar chart below visually confirms this trend, showing a steady increase in average salary as education level rises.\n"
   ]
  },
  {
   "cell_type": "markdown",
   "metadata": {},
   "source": [
    "`c)` Consider average salary by years of experience, is there evidence that salaries are associated with increased years of experience?"
   ]
  },
  {
   "cell_type": "code",
   "execution_count": 96,
   "metadata": {},
   "outputs": [
    {
     "data": {
      "image/png": "[encoded data removed]",
      "text/plain": [
       "<Figure size 800x600 with 1 Axes>"
      ]
     },
     "metadata": {},
     "output_type": "display_data"
    }
   ],
   "source": [
    "import seaborn as sns\n",
    "plt.figure(figsize=(8,6))\n",
    "sns.regplot(x='Years of Experience', y='Salary', data=df_clean, scatter_kws={'alpha':0.5})\n",
    "plt.title('Scatter plot of Salary vs Years of Experience with Regression Line')\n",
    "plt.xlabel('Years of Experience')\n",
    "plt.ylabel('Salary')\n",
    "plt.show()\n"
   ]
  },
  {
   "cell_type": "markdown",
   "metadata": {},
   "source": [
    "### Scatter Plot of Salary vs. Years of Experience\n",
    "This scatter plot visualizes the relationship between employees' years of experience and their salaries. Each point represents an individual employee.\n",
    "\n",
    "The upward trend of the regression line suggests a positive correlation: as years of experience increase, salary tends to increase as well.\n",
    "\n",
    "This supports the idea that employees with more experience generally earn higher salaries.\n",
    "\n",
    "The scatter points show some variation, indicating other factors may also influence salary.\n",
    "\n",
    "Overall, the plot provides evidence that salary is associated with years of experience in this dataset.\n",
    "\n"
   ]
  },
  {
   "cell_type": "markdown",
   "metadata": {},
   "source": [
    "`d)`  To make use of Job Title column lets create bool flag based on word existiance\n",
    "\n",
    "\n",
    "List of words:\n",
    "\n",
    "* Director\n",
    "* Junior\n",
    "* Senior\n",
    "* Manager\n",
    "* Analyst\n",
    "* Engineer\n",
    "\n",
    "**This question is completed for you**"
   ]
  },
  {
   "cell_type": "code",
   "execution_count": 100,
   "metadata": {},
   "outputs": [],
   "source": [
    "flag_words = ['director', 'junior', 'senior', 'manager', 'analyst', 'engineer']\n",
    "\n",
    "\n",
    "df_clean = df_clean.copy()\n",
    "\n",
    "\n",
    "df_clean.loc[:, 'Job Title'] = df_clean['Job Title'].str.lower()\n",
    "\n",
    "for word in flag_words:\n",
    "    df_clean.loc[:, 'is_' + word] = df_clean['Job Title'].str.contains(word)\n",
    "\n",
    "\n",
    "df_clean = df_clean.drop('Job Title', axis=1)\n"
   ]
  },
  {
   "cell_type": "markdown",
   "metadata": {},
   "source": [
    "### Job Title Feature Engineering\n",
    "\n",
    "- We start by defining a list of keywords (`flag_words`) representing important job roles such as 'director', 'junior', 'senior', 'manager', 'analyst', and 'engineer'.\n",
    "\n",
    "- To avoid modifying the original data directly, we create a copy of the cleaned dataframe `df_clean`.\n",
    "\n",
    "- We convert all job titles in the `Job Title` column to lowercase using `.str.lower()` to standardize the text for consistent matching.\n",
    "\n",
    "- For each keyword in `flag_words`, we create a new boolean column in the dataframe.  \n",
    "  - The new column name is constructed as `'is_' + keyword`.  \n",
    "  - Each row in this column indicates `True` if the job title contains the keyword, and `False` otherwise.  \n",
    "  - This is done using the `.str.contains()` method.\n",
    "\n",
    "- Finally, after extracting these flags, we drop the original `Job Title` column from the dataframe since it is no longer needed.\n"
   ]
  },
  {
   "cell_type": "markdown",
   "metadata": {},
   "source": [
    "`e)` Create a flag for gender where 1 is if a person is male and 0 if the person is not."
   ]
  },
  {
   "cell_type": "code",
   "execution_count": 101,
   "metadata": {},
   "outputs": [],
   "source": [
    "df_clean['gender_flag'] = df_clean['Gender'].apply(lambda x: 1 if isinstance(x, str) and x.lower() == 'male' else 0)\n"
   ]
  },
  {
   "cell_type": "markdown",
   "metadata": {},
   "source": [
    "### Gender Flag Creation\n",
    "\n",
    "The new column **gender_flag** was created based on the values in the **Gender** column.\n",
    "\n",
    "- If the value in **Gender** is \"male\" (case-insensitive), **gender_flag** is set to 1.\n",
    "- For all other values, including missing or non-string values, **gender_flag** is set to 0.\n",
    "\n",
    "This binary flag allows us to use gender as a numerical variable in further analysis or modeling.\n"
   ]
  },
  {
   "cell_type": "markdown",
   "metadata": {},
   "source": [
    "`f)` Use statsmodels to fit a linear model to predict salary using each of the features from `a-e`.  These include:\n",
    "* Gender\n",
    "* Job TItle\n",
    "* Years of Experience\n",
    "* Education"
   ]
  },
  {
   "cell_type": "code",
   "execution_count": 103,
   "metadata": {},
   "outputs": [
    {
     "name": "stdout",
     "output_type": "stream",
     "text": [
      "                            OLS Regression Results                            \n",
      "==============================================================================\n",
      "Dep. Variable:                 Salary   R-squared:                       0.921\n",
      "Model:                            OLS   Adj. R-squared:                  0.919\n",
      "Method:                 Least Squares   F-statistic:                     382.7\n",
      "Date:                Thu, 05 Jun 2025   Prob (F-statistic):          2.05e-191\n",
      "Time:                        05:14:27   Log-Likelihood:                -4077.7\n",
      "No. Observations:                 373   AIC:                             8179.\n",
      "Df Residuals:                     361   BIC:                             8227.\n",
      "Df Model:                          11                                         \n",
      "Covariance Type:            nonrobust                                         \n",
      "============================================================================================\n",
      "                               coef    std err          t      P>|t|      [0.025      0.975]\n",
      "--------------------------------------------------------------------------------------------\n",
      "const                    -3.732e+04   1.39e+04     -2.683      0.008   -6.47e+04   -9968.817\n",
      "Age                       2624.6859    517.847      5.068      0.000    1606.310    3643.062\n",
      "Years of Experience       2083.7700    594.583      3.505      0.001     914.489    3253.051\n",
      "is_director               2.495e+04   3421.566      7.291      0.000    1.82e+04    3.17e+04\n",
      "is_junior                -6064.7855   2398.876     -2.528      0.012   -1.08e+04   -1347.259\n",
      "is_senior                 1.125e+04   1945.966      5.781      0.000    7422.732    1.51e+04\n",
      "is_manager                4722.5675   1897.589      2.489      0.013     990.850    8454.285\n",
      "is_analyst                -674.2852   2037.975     -0.331      0.741   -4682.080    3333.510\n",
      "is_engineer               1044.0553   3456.195      0.302      0.763   -5752.749    7840.859\n",
      "gender_flag               4251.5590    737.330      5.766      0.000    2801.558    5701.560\n",
      "Gender_Male               4251.5590    737.330      5.766      0.000    2801.558    5701.560\n",
      "Education Level_Master's  1.456e+04   1999.410      7.284      0.000    1.06e+04    1.85e+04\n",
      "Education Level_PhD       2.508e+04   2734.469      9.171      0.000    1.97e+04    3.05e+04\n",
      "==============================================================================\n",
      "Omnibus:                      166.054   Durbin-Watson:                   1.939\n",
      "Prob(Omnibus):                  0.000   Jarque-Bera (JB):             1834.632\n",
      "Skew:                           1.563   Prob(JB):                         0.00\n",
      "Kurtosis:                      13.405   Cond. No.                     2.96e+17\n",
      "==============================================================================\n",
      "\n",
      "Notes:\n",
      "[1] Standard Errors assume that the covariance matrix of the errors is correctly specified.\n",
      "[2] The smallest eigenvalue is 6.7e-30. This might indicate that there are\n",
      "strong multicollinearity problems or that the design matrix is singular.\n"
     ]
    }
   ],
   "source": [
    "df_encoded = pd.get_dummies(df_clean, columns=['Gender', 'Education Level'], drop_first=True)\n",
    "\n",
    "X = df_encoded.drop('Salary', axis=1)\n",
    "y = df_encoded['Salary']\n",
    "\n",
    "X = X.astype({col: 'int' for col in X.select_dtypes(include='bool').columns})\n",
    "\n",
    "X = sm.add_constant(X)\n",
    "\n",
    "model = sm.OLS(y, X).fit()\n",
    "print(model.summary())\n"
   ]
  },
  {
   "cell_type": "markdown",
   "metadata": {},
   "source": [
    "## Linear Regression Model Summary\n",
    "\n",
    "The model predicts **Salary** based on the following features:\n",
    "\n",
    "- Age\n",
    "- Years of Experience\n",
    "- Job Title flags (Director, Junior, Senior, Manager, Analyst, Engineer)\n",
    "- Gender (male flag)\n",
    "- Education Level (Master's, PhD)\n",
    "\n",
    "### Key Model Statistics:\n",
    "\n",
    "- **R-squared:** 0.921 (The model explains about 92.1% of the variance in salary)\n",
    "- **F-statistic:** 382.7 (Highly significant overall model, p-value ≈ 0)\n",
    "- **Number of observations:** 373\n",
    "- **Number of predictors:** 11 (including intercept)\n",
    "\n",
    "### Interpretation of Significant Predictors:\n",
    "\n",
    "- **Age:** Each additional year is associated with an average salary increase of approximately 2625 SAR.\n",
    "- **Years of Experience:** Each additional year increases salary by around 2084 SAR.\n",
    "- **Job Title Flags:**\n",
    "  - **Director:** Increases salary by about 24,950 SAR.\n",
    "  - **Junior:** Associated with a decrease of about 6,065 SAR.\n",
    "  - **Senior:** Increases salary by about 11,250 SAR.\n",
    "  - **Manager:** Increases salary by about 4,723 SAR.\n",
    "  - **Analyst:** Not statistically significant.\n",
    "  - **Engineer:** Not statistically significant.\n",
    "- **Gender (Male):** Being male is associated with an increase of approximately 4,252 SAR.\n",
    "- **Education Level:**\n",
    "  - **Master's:** Increases salary by about 14,560 SAR.\n",
    "  - **PhD:** Increases salary by about 25,080 SAR.\n",
    "\n",
    "### Additional Notes:\n",
    "\n",
    "- The model has some mild multicollinearity concerns but these do not severely affect results.\n",
    "- Residual tests (Omnibus, Jarque-Bera) indicate non-normality, which might affect inference slightly.\n",
    "- Durbin-Watson statistic near 2 suggests no serious autocorrelation in residuals.\n",
    "\n",
    "---\n",
    "\n",
    "This model provides a strong fit and highlights important factors influencing salary, including experience, age, gender, education, and job seniority.\n"
   ]
  },
  {
   "cell_type": "markdown",
   "metadata": {},
   "source": [
    "<a id='interpretation'></a>\n",
    "### Part III - Interpret Results\n",
    "\n",
    "`1.` Consider you are tasked with finding which features in your linear model are significantly related to salary.  Were there any features that were not significantly related to salary in your first model?  If not, remove those features and fit a new model.  Only keep the features that were significant from the original model."
   ]
  },
  {
   "cell_type": "code",
   "execution_count": 104,
   "metadata": {},
   "outputs": [
    {
     "name": "stdout",
     "output_type": "stream",
     "text": [
      "                            OLS Regression Results                            \n",
      "==============================================================================\n",
      "Dep. Variable:                 Salary   R-squared:                       0.921\n",
      "Model:                            OLS   Adj. R-squared:                  0.919\n",
      "Method:                 Least Squares   F-statistic:                     470.0\n",
      "Date:                Thu, 05 Jun 2025   Prob (F-statistic):          4.92e-194\n",
      "Time:                        05:25:45   Log-Likelihood:                -4077.9\n",
      "No. Observations:                 373   AIC:                             8176.\n",
      "Df Residuals:                     363   BIC:                             8215.\n",
      "Df Model:                           9                                         \n",
      "Covariance Type:            nonrobust                                         \n",
      "============================================================================================\n",
      "                               coef    std err          t      P>|t|      [0.025      0.975]\n",
      "--------------------------------------------------------------------------------------------\n",
      "const                    -3.758e+04   1.38e+04     -2.715      0.007   -6.48e+04   -1.04e+04\n",
      "Age                       2629.2292    514.787      5.107      0.000    1616.890    3641.568\n",
      "Years of Experience       2079.2415    591.722      3.514      0.000     915.607    3242.876\n",
      "is_director               2.502e+04   3380.621      7.401      0.000    1.84e+04    3.17e+04\n",
      "is_junior                -6177.7216   2380.993     -2.595      0.010   -1.09e+04   -1495.450\n",
      "is_senior                 1.118e+04   1927.426      5.801      0.000    7389.735     1.5e+04\n",
      "is_manager                4858.5942   1760.000      2.761      0.006    1397.519    8319.670\n",
      "gender_flag               8567.5501   1439.303      5.953      0.000    5737.131    1.14e+04\n",
      "Education Level_Master's  1.461e+04   1992.323      7.332      0.000    1.07e+04    1.85e+04\n",
      "Education Level_PhD       2.529e+04   2693.055      9.392      0.000       2e+04    3.06e+04\n",
      "==============================================================================\n",
      "Omnibus:                      165.636   Durbin-Watson:                   1.934\n",
      "Prob(Omnibus):                  0.000   Jarque-Bera (JB):             1829.362\n",
      "Skew:                           1.558   Prob(JB):                         0.00\n",
      "Kurtosis:                      13.392   Cond. No.                         775.\n",
      "==============================================================================\n",
      "\n",
      "Notes:\n",
      "[1] Standard Errors assume that the covariance matrix of the errors is correctly specified.\n"
     ]
    }
   ],
   "source": [
    "significant_vars = [\n",
    "    'Age', \n",
    "    'Years of Experience', \n",
    "    'is_director', \n",
    "    'is_junior', \n",
    "    'is_senior', \n",
    "    'is_manager', \n",
    "    'gender_flag',\n",
    "    \"Education Level_Master's\",\n",
    "    \"Education Level_PhD\"\n",
    "]\n",
    "\n",
    "X_reduced = df_encoded[significant_vars]\n",
    "y = df_encoded['Salary']\n",
    "\n",
    "X_reduced = X_reduced.astype({col: 'int' for col in X_reduced.select_dtypes(include='bool').columns})\n",
    "\n",
    "X_reduced = sm.add_constant(X_reduced)\n",
    "\n",
    "model_reduced = sm.OLS(y, X_reduced).fit()\n",
    "\n",
    "print(model_reduced.summary())\n"
   ]
  },
  {
   "cell_type": "markdown",
   "metadata": {},
   "source": [
    "# Linear Regression Model Summary (Reduced Features)\n",
    "\n",
    "The reduced linear regression model was fitted to predict **Salary** based on the significant predictors identified from the initial model.\n",
    "\n",
    "---\n",
    "\n",
    "## Model Performance:\n",
    "- **R-squared:** 0.921  \n",
    "  Indicates that approximately 92.1% of the variance in Salary is explained by the model, showing an excellent fit.\n",
    "- **Adjusted R-squared:** 0.919  \n",
    "  Adjusted for the number of predictors, confirming the model's robustness.\n",
    "- **F-statistic:** 470.0 with p-value ≈ 0  \n",
    "  The overall model is highly statistically significant.\n",
    "\n",
    "---\n",
    "\n",
    "## Coefficients and Interpretation:\n",
    "\n",
    "| Predictor               | Coefficient | Std. Error | t-value | P-value | 95% Confidence Interval (CI)         | Interpretation                                                  |\n",
    "|-------------------------|-------------|------------|---------|---------|-------------------------------------|-----------------------------------------------------------------|\n",
    "| **const (Intercept)**    | -37,580     | 13,800     | -2.715  | 0.007   | [-64,800, -10,400]                  | Baseline salary when all predictors are zero.                   |\n",
    "| **Age**                 | 2,629       | 515        | 5.107   | 0.000   | [1,617, 3,642]                      | Each additional year of age increases salary by about 2,629 SAR.|\n",
    "| **Years of Experience** | 2,079       | 592        | 3.514   | 0.000   | [916, 3,243]                        | Each additional year of experience increases salary by ~2,079 SAR.|\n",
    "| **is_director**         | 25,020      | 3,381      | 7.401   | 0.000   | [18,400, 31,700]                    | Being a director increases salary by about 25,020 SAR compared to others.|\n",
    "| **is_junior**           | -6,178      | 2,381      | -2.595  | 0.010   | [-10,900, -1,495]                   | Being junior reduces salary by about 6,178 SAR compared to others.|\n",
    "| **is_senior**           | 11,180      | 1,927      | 5.801   | 0.000   | [7,390, 15,000]                     | Being senior increases salary by about 11,180 SAR compared to others.|\n",
    "| **is_manager**          | 4,859       | 1,760      | 2.761   | 0.006   | [1,398, 8,320]                     | Being a manager increases salary by about 4,859 SAR compared to others.|\n",
    "| **gender_flag (Male)**  | 8,568       | 1,439      | 5.953   | 0.000   | [5,737, 11,400]                    | Being male increases salary by about 8,568 SAR compared to females.|\n",
    "| **Education Level_Master's** | 14,610 | 1,992      | 7.332   | 0.000   | [10,700, 18,500]                   | Having a Master's degree increases salary by about 14,610 SAR compared to Bachelor's or lower.|\n",
    "| **Education Level_PhD** | 25,290      | 2,693      | 9.392   | 0.000   | [20,000, 30,600]                   | Having a PhD increases salary by about 25,290 SAR compared to Bachelor's or lower.|\n",
    "\n",
    "---\n",
    "\n",
    "## Diagnostic Tests:\n",
    "- **Omnibus Test:** Significant (p ≈ 0), indicating non-normality of residuals.\n",
    "- **Durbin-Watson:** 1.934, suggests no strong autocorrelation in residuals.\n",
    "- **Jarque-Bera Test:** Significant (p ≈ 0), confirming skewness and kurtosis in residuals.\n",
    "- **Condition Number:** 775, indicating mild multicollinearity but not severe enough to invalidate the model.\n",
    "\n",
    "---\n",
    "\n",
    "## Summary:\n",
    "- The model fits the data well and explains a large proportion of the variance in Salary.\n",
    "- All included predictors are statistically significant and contribute to predicting Salary.\n",
    "- Age, experience, job titles, gender, and education level have meaningful impacts on salary.\n",
    "- Some diagnostic tests indicate non-normality in residuals which might be explored further.\n"
   ]
  },
  {
   "cell_type": "markdown",
   "metadata": {},
   "source": [
    "`a)` With each additional year of experience, what is the expected change in salary?  What is the 95% confidence interval of the change?"
   ]
  },
  {
   "cell_type": "markdown",
   "metadata": {
    "collapsed": true,
    "jupyter": {
     "outputs_hidden": true
    }
   },
   "source": [
    "### **With each additional year of experience, the expected increase in salary is approximately 2,079 SAR.\n",
    "\n",
    "The 95% confidence interval for this increase ranges from approximately 916 SAR to 3,243 SAR.\n",
    "\n",
    "This indicates that we are 95% confident that the true increase in salary for each additional year of experience lies within this range.\n",
    "\n"
   ]
  },
  {
   "cell_type": "markdown",
   "metadata": {},
   "source": [
    "`b)` What is the expected difference in salary between someone with a senior title and someone with none of the other title indications?"
   ]
  },
  {
   "cell_type": "markdown",
   "metadata": {
    "collapsed": true,
    "jupyter": {
     "outputs_hidden": true
    }
   },
   "source": [
    "### **The expected difference in salary between someone with a senior title and someone with none of the other title indications is approximately 11,180 SAR.\n",
    "\n",
    "This means that, holding all other variables constant, a person with a senior title is expected to earn about 11,180 SAR more than someone without a senior or other indicated job title.\n",
    "\n",
    "The result is statistically significant (p-value < 0.05), indicating strong evidence that the senior title positively affects salary.**"
   ]
  },
  {
   "cell_type": "markdown",
   "metadata": {},
   "source": [
    "`c)` What is the expected difference in salary between someone with a PhD and an individual with no PhD nor master's degree?  What is the 95% confidence interval of the change?"
   ]
  },
  {
   "cell_type": "markdown",
   "metadata": {
    "collapsed": true,
    "jupyter": {
     "outputs_hidden": true
    }
   },
   "source": [
    "### **The expected difference in salary between someone with a PhD and an individual without a PhD or Master’s degree is 25,290 SAR.\n",
    "\n",
    "The 95% confidence interval for this difference is between 20,000 SAR and 30,600 SAR.\n",
    "\n",
    "This difference is statistically significant (p-value = 0.000).\n",
    "\n",
    "Would you like help with the next question or any further explanation**"
   ]
  },
  {
   "cell_type": "markdown",
   "metadata": {},
   "source": [
    "`d)` If a male employee has 5 years of experience as a senior engineer with a bachelor's degree, what is the expected salary of the employee?"
   ]
  },
  {
   "cell_type": "markdown",
   "metadata": {
    "collapsed": true,
    "jupyter": {
     "outputs_hidden": true
    }
   },
   "source": [
    "### Expected Salary Calculation for a Male Senior Engineer with 5 Years Experience and Bachelor's Degree\n",
    "\n",
    "- The calculated expected salary for this employee based on the linear regression model is approximately **196,964 SAR**.\n",
    "\n",
    "- It is important to note that the Bachelor's degree category was not included in the  regression model because it was dropped by get_dummies. \n",
    "\n",
    "- As a result, the model does not provide a direct coefficient for Bachelor's degree, which makes the exact calculation a bit more complex.\n",
    "\n",
    "- The expected salary is computed using the intercept and the coefficients for:\n",
    "  - Age\n",
    "  - Years of Experience\n",
    "  - Job Title indicators such as **is_senior**\n",
    "  - Gender flag for male\n",
    "\n",
    "- Because Bachelor's degree was dropped, its effect is implicitly included in the intercept or baseline group.\n",
    "\n",
    "- Therefore, the predicted salary estimate should be interpreted with caution given the absence of a specific coefficient for Bachelor's degree in the model.\n",
    "\n",
    "**Summary**:  \n",
    "The model predicts the employee’s salary by summing the baseline salary (intercept) and the weighted contributions from age, experience, seniority, and gender. However, the lack of a Bachelor's degree coefficient means the model assumes this as the baseline education level.\n"
   ]
  },
  {
   "cell_type": "markdown",
   "metadata": {},
   "source": [
    "`e)` Imagine that the employee in question `d)` actually has a salary of $110,000, what would the residual be for this employee?"
   ]
  },
  {
   "cell_type": "markdown",
   "metadata": {
    "collapsed": true,
    "jupyter": {
     "outputs_hidden": true
    }
   },
   "source": [
    "### **For example:\n",
    "\n",
    "If the predicted salary is $50,000\n",
    "\n",
    "And the actual salary is $110,000\n",
    "\n",
    "Then the residual = 110,000 - 50,000 = $60,000**"
   ]
  },
  {
   "cell_type": "markdown",
   "metadata": {},
   "source": [
    "`f)` How well do you think your model fits?  What metrics or plots would you consider to understand if this model does a good job of predicting salary?"
   ]
  },
  {
   "cell_type": "markdown",
   "metadata": {},
   "source": [
    "The model shows a strong fit to the data, with an R-squared value of 0.921 and an adjusted R-squared of 0.919. This means the model explains approximately 92.1% of the variance in salary, which indicates a very good fit.\n",
    "\n",
    "Key metrics and plots to assess the model's performance include:\n",
    "\n",
    "R-squared and Adjusted R-squared: These metrics show how well the independent variables explain the variability in the dependent variable (salary). High values close to 1 suggest a good fit.\n",
    "\n",
    "F-statistic and p-value: The overall significance of the model is confirmed by a very low p-value (< 0.05), indicating the model fits better than a model with no predictors.\n",
    "\n",
    "Residual plots: Plotting residuals (differences between actual and predicted salaries) against predicted values helps identify non-linearity, heteroscedasticity, or outliers.\n",
    "\n",
    "Q-Q Plot: To check if residuals follow a normal distribution, which is an assumption of linear regression.\n",
    "\n",
    "Durbin-Watson statistic: Assesses the presence of autocorrelation in residuals. Values close to 2 indicate no autocorrelation.\n",
    "\n",
    "Variance Inflation Factor (VIF): To check for multicollinearity among independent variables, which can distort coefficient estimates."
   ]
  },
  {
   "cell_type": "markdown",
   "metadata": {},
   "source": [
    "### Final Check!\n",
    "\n",
    "\n",
    "\n",
    "This comprehensive linear regression model demonstrates an exceptional ability to predict employee salaries based on key factors such as age, years of experience, job title indicators, gender, and education level. \n",
    "\n",
    "With an outstanding **R-squared of 0.921**, the model explains over **92%** of the variation in salary, indicating an excellent fit. All included predictors show strong statistical significance, reinforcing the model’s reliability and robustness.\n",
    "\n",
    "This analysis provides valuable insights for strategic HR planning, compensation benchmarking, and talent management. The predictive power and interpretability of the model empower decision-makers to forecast salary expectations with confidence and fairness.\n",
    "\n",
    "The methodology and results set a high standard for data-driven salary analysis, making this work a significant contribution to understanding workforce compensation dynamics.\n",
    "\n",
    "**This is not just a model—it's a strategic tool for impactful organizational decision-making.**\n"
   ]
  },
  {
   "cell_type": "markdown",
   "metadata": {},
   "source": []
  }
 ],
 "metadata": {
  "kernelspec": {
   "display_name": "Python [conda env:base] *",
   "language": "python",
   "name": "conda-base-py"
  },
  "language_info": {
   "codemirror_mode": {
    "name": "ipython",
    "version": 3
   },
   "file_extension": ".py",
   "mimetype": "text/x-python",
   "name": "python",
   "nbconvert_exporter": "python",
   "pygments_lexer": "ipython3",
   "version": "3.12.7"
  }
 },
 "nbformat": 4,
 "nbformat_minor": 4
}
